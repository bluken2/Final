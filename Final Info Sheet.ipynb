{
 "cells": [
  {
   "cell_type": "markdown",
   "metadata": {},
   "source": [
    "Lab 1"
   ]
  },
  {
   "cell_type": "code",
   "execution_count": null,
   "metadata": {},
   "outputs": [],
   "source": [
    "#Calculate and store STOIIP = 7758 Ah*phi(1-S_{wi})/B_oi\n",
    "area,h,poro,s_wi,b_oi=250,50,0.33,0.25,1.1 #values of variables\n",
    "stoiip=(((7758*area*h*poro)*(1-s_wi))/b_oi) #equation\n",
    "print(f\"{stoiip}bbls\") #result"
   ]
  },
  {
   "cell_type": "code",
   "execution_count": null,
   "metadata": {},
   "outputs": [],
   "source": [
    "#Calculate bulk volume and store in acreft\n",
    "bv_acreft=(area*h) #equation\n",
    "print(f\"{bv_acreft}acre ft\") #result"
   ]
  },
  {
   "cell_type": "code",
   "execution_count": null,
   "metadata": {},
   "outputs": [],
   "source": [
    "#Convert the bulk volume to barrels aka rb\n",
    "convf=7758 #variable\n",
    "bv_rb=(bv_acreft*convf) #conversion to barrels\n",
    "print(f\"{bv_rb}bbls\") #result"
   ]
  },
  {
   "cell_type": "code",
   "execution_count": null,
   "metadata": {},
   "outputs": [],
   "source": [
    "#Computing pore volume\n",
    "poro=0.33 #porosity\n",
    "v_p_acreft=(bv_acreft*poro) #pore volume in acre ft\n",
    "v_p_rb=(v_p_acreft*7758) #pore volume in barrels\n",
    "print((f\"{v_p_acreft} acreft, {v_p_rb} bbls\")) #result"
   ]
  },
  {
   "cell_type": "code",
   "execution_count": null,
   "metadata": {},
   "outputs": [],
   "source": [
    "#Hydrocarbon pore volume\n",
    "hcpv=((7758*area*h*poro)*(1-s_wi))  #hydrocarbon pore volume\n",
    "print(f\"{hcpv} bbls\") #result"
   ]
  },
  {
   "cell_type": "code",
   "execution_count": null,
   "metadata": {},
   "outputs": [],
   "source": [
    "#Code that assigns porosity values\n",
    "poro_B,poro_C=0.25,0.35 #porosity values\n",
    "stoiip_B=(((7758*area*h*poro_B)*(1-s_wi))/(b_oi)) #reservoir B stoiip\n",
    "stoiip_C=(((7758*area*h*poro_C)*(1-s_wi))/(b_oi)) #reservoir C stoiip\n",
    "#stoiip is reservoir A"
   ]
  },
  {
   "cell_type": "code",
   "execution_count": null,
   "metadata": {},
   "outputs": [],
   "source": [
    "#Resivoir mean of 3 reservoirs\n",
    "resmean=(((stoiip_B)+(stoiip_C)+(stoiip))/3) #arithmetic mean of the 3 reservoirs\n",
    "print(f\"{resmean} bbls\") #result average"
   ]
  },
  {
   "cell_type": "code",
   "execution_count": null,
   "metadata": {},
   "outputs": [],
   "source": [
    "#Which reservoir is larger?\n",
    "print(stoiip_B>stoiip_C) #is reservoir B greater than reservoir C?"
   ]
  },
  {
   "cell_type": "code",
   "execution_count": null,
   "metadata": {},
   "outputs": [],
   "source": [
    "#add a percentage of a volume to the total\n",
    "percent=(stoiip_B*(0.10)) #equation to find 10 percent of reservoir B\n",
    "print(percent) #value of the 10 percent\n",
    "stoiip_B += 1652982.9545454546 #reservoir B plus 10 percent more"
   ]
  },
  {
   "cell_type": "code",
   "execution_count": null,
   "metadata": {},
   "outputs": [],
   "source": [
    "#find 90 percent of original volume\n",
    "print(f\"{stoiip_C*(0.90)}bbls\") #90 percent of reservoir C"
   ]
  },
  {
   "cell_type": "markdown",
   "metadata": {},
   "source": [
    "Lab 2"
   ]
  },
  {
   "cell_type": "code",
   "execution_count": null,
   "metadata": {},
   "outputs": [],
   "source": [
    "#Create a list w list and range functions to store time in years\n",
    "t=list(range(0,4,1))  #start year,max year,increments"
   ]
  },
  {
   "cell_type": "code",
   "execution_count": null,
   "metadata": {},
   "outputs": [],
   "source": [
    "#create a list and fill it with zeroes\n",
    "q_A=[0,0,0,0]\n",
    "q_B=[0,0,0,0]\n",
    "q_C=[0,0,0,0]"
   ]
  },
  {
   "cell_type": "code",
   "execution_count": null,
   "metadata": {},
   "outputs": [],
   "source": [
    "#find oil rate @ 0 years store it in the first index of the list and for 1 year in the seocnd index and so on\n",
    "q_A[0]=q_i*mt.exp(-D_i * t[0])\n",
    "q_A[1]=q_i*mt.exp(-D_i * t[1])\n",
    "q_A[2]=q_i*mt.exp(-D_i * t[2])\n",
    "q_A[3]=q_i*mt.exp(-D_i * t[3])"
   ]
  },
  {
   "cell_type": "code",
   "execution_count": null,
   "metadata": {},
   "outputs": [],
   "source": [
    "#Compute and store the rates hyperbolic decline etc\n",
    "q_B[0] = q_i / (( 1 + (b * D_i * t[0]) ) ** ( 1 / b))"
   ]
  },
  {
   "cell_type": "code",
   "execution_count": null,
   "metadata": {},
   "outputs": [],
   "source": [
    "#Print the culmulative production\n",
    "Q_A=[(q_i-q_A[0])/D_i,(q_i-q_A[1])/D_i,(q_i-q_A[2])/D_i,(q_i-q_A[3])/D_i]"
   ]
  },
  {
   "cell_type": "code",
   "execution_count": null,
   "metadata": {},
   "outputs": [],
   "source": [
    "#calculate trapezoidal area for time t and so on\n",
    "t_1 =0.5*(q_A[0]+q_A[1]) #this example is at t = 1 year"
   ]
  },
  {
   "cell_type": "code",
   "execution_count": null,
   "metadata": {},
   "outputs": [],
   "source": [
    "#Compare numerical integration to an exact integration. Compute the relative error (in %) of the numerical integration.\n",
    "print(t_A==q_A[3])\n",
    "eps_rel=((Q_A[3]-t_A)/Q_A[3])*100\n",
    "print(f\"The relative error between the numerical integration and the exact integration is {eps_rel} %\")"
   ]
  },
  {
   "cell_type": "code",
   "execution_count": null,
   "metadata": {},
   "outputs": [],
   "source": []
  },
  {
   "cell_type": "markdown",
   "metadata": {},
   "source": [
    "Lab 3"
   ]
  },
  {
   "cell_type": "code",
   "execution_count": null,
   "metadata": {},
   "outputs": [],
   "source": [
    "#Create a one-dimensional (1D) time array called timeVec and let it store numbers from 0 through 20 in increments of 1.\n",
    "timeVec=np.arange(0,21,1) #range\n",
    "print(timeVec)"
   ]
  },
  {
   "cell_type": "code",
   "execution_count": null,
   "metadata": {},
   "outputs": [],
   "source": [
    "#one-line vectorized code that computes the rates of the times stored in timeVec, and store these rates in an array\n",
    "rateExp=np.array(q_i*(np.exp(-D_i*timeVec))) #array of exponential decline\n",
    "print(rateExp)"
   ]
  },
  {
   "cell_type": "code",
   "execution_count": null,
   "metadata": {},
   "outputs": [],
   "source": [
    "#plot and display a graph of rateExp versus timeVec, using a green solid line and square markers.\n",
    "import matplotlib.pyplot as plt\n",
    "plt.plot(rateExp,timeVec,'g-s')\n",
    "plt.show()"
   ]
  },
  {
   "cell_type": "code",
   "execution_count": null,
   "metadata": {},
   "outputs": [],
   "source": [
    "#Print the data type of the timeVec array, using the numpy function \"dtype\"\n",
    "print(timeVec.dtype)"
   ]
  },
  {
   "cell_type": "code",
   "execution_count": null,
   "metadata": {},
   "outputs": [],
   "source": [
    "#Create an array of the same shape with timeVec, call it \"rateExp2\", and initialize it to zeros\n",
    "rateExp2=np.zeros(timeVec.shape) #array of 0s\n",
    "print(rateExp2)"
   ]
  },
  {
   "cell_type": "code",
   "execution_count": null,
   "metadata": {},
   "outputs": [],
   "source": [
    "#Instead of the vectorized computation of rateExp, use a for loop for rate\n",
    "for time in timeVec:\n",
    "    rateExp2[time]=np.array(q_i*(np.exp(-D_i*time))) #loop\n",
    "print(rateExp2)\n",
    "np.array(rateExp2) #array of Exp2"
   ]
  },
  {
   "cell_type": "code",
   "execution_count": null,
   "metadata": {},
   "outputs": [],
   "source": [
    "#Plot rateExp2 versus timeVec\n",
    "plt.plot(rateExp2,timeVec,'g-s')\n",
    "plt.show()"
   ]
  },
  {
   "cell_type": "markdown",
   "metadata": {},
   "source": [
    "Lab 4"
   ]
  },
  {
   "cell_type": "code",
   "execution_count": null,
   "metadata": {},
   "outputs": [],
   "source": [
    "#count the first two human years as 10.5 dog years, and then count each other human year as 4 dog years.\n",
    "#Ensure that your program works correctly for conversions of less than two human years and for conversions \n",
    "#of two or more human years. Your program should generate a random number between 0 and 10\n",
    "import numpy as np\n",
    "import pandas as pd\n",
    "human_age=int(10*np.random.random(1))\n",
    "if human_age <=2:\n",
    "    dog_age1=(10.5*human_age)\n",
    "    print(\"The dog's age in human years is\", dog_age1) #dogs age before or equal to 2 years of age\n",
    "else:\n",
    "    dog_age2=((human_age*4)+(2*10.5)) #dogs age after 2 years of age\n",
    "    print(\"The dog's age in human years is\", dog_age2)"
   ]
  },
  {
   "cell_type": "code",
   "execution_count": null,
   "metadata": {},
   "outputs": [],
   "source": [
    "#for students A through J, generate 10 random numbers between 0 and 100. \n",
    "#Create a dataframe to store the student names in the first column (called \"Name\"), and store the scores \n",
    "#in the second column called \"Score\". Print out  mean, standard deviation, maximum of scores, \n",
    "#as well as the index of the student with this maximum score.\n",
    "from numpy.random import randn\n",
    "Name='A B C D E F G H I J'\n",
    "myrand=(100*(np.random.random((10,1))))\n",
    "df=pd.DataFrame(myrand, index=Name.split(), columns='Score'.split()) #creation of table\n",
    "df=df.rename_axis('Students')\n",
    "print('Test score mean is', df.mean()) #Mean Score\n",
    "print('Test score standard deviation is', df.std()) #Standard Deviation\n",
    "print('The tests maximum score is', df.max()) #max score of the test\n",
    "print('Max Score index', df.idxmax()) #index max score"
   ]
  },
  {
   "cell_type": "code",
   "execution_count": null,
   "metadata": {},
   "outputs": [],
   "source": [
    "#Compute the percentages into a letter score and emit an error if the score is impossible\n",
    "letterGrade = ['A+','A','A-','B+','B','B-','C+','C','C-','D+','D','D-']\n",
    "scores = [97,93,90,87,83,80,77,73,70,67,63,60]\n",
    "# A score of less than 60 gets a letter grade of F\n",
    "\n",
    "Grade_Score=input(\"Put in your percentage to see your letter grade\") #score input\n",
    "G=int(Grade_Score)\n",
    "if G>100:\n",
    "    print(\"This score is impossible\") #impossible grades \n",
    "elif G<0:\n",
    "    print(\"This score is impossible\")\n",
    "elif G>=97:\n",
    "    print(\"A+\")\n",
    "elif G>=93:\n",
    "    print(\"A\")\n",
    "elif G>=90:\n",
    "    print(\"A-\")\n",
    "elif G>=87:\n",
    "    print(\"B+\")\n",
    "elif G>=83:\n",
    "    print(\"B\")\n",
    "elif G>=80:\n",
    "    print(\"B-\")\n",
    "elif G>=77:\n",
    "    print(\"C+\")\n",
    "elif G>=73:\n",
    "    print(\"C\")\n",
    "elif G>=70:\n",
    "    print(\"C-\")\n",
    "elif G>=67:\n",
    "    print(\"D+\")\n",
    "elif G>=63:\n",
    "    print(\"D\")\n",
    "elif G>=60:\n",
    "    print(\"D-\")\n",
    "elif G>=0:\n",
    "    print(\"F\")"
   ]
  },
  {
   "cell_type": "code",
   "execution_count": null,
   "metadata": {},
   "outputs": [],
   "source": [
    "#generate 10 random integers, then print the largest odd number entered. No odd number? print error \n",
    "import numpy as np\n",
    "myRandInt = np.random.randint(low=1, high=20, size=10)\n",
    "OddInt=[]\n",
    "for x in myRandInt:  #searches for odd values by division of two and remainders\n",
    "    if not (x % 2)==0:\n",
    "        OddInt.append(x) #adds in odd values to list\n",
    "    print(OddInt)\n",
    "    print(max(OddInt)) #largest odd integer\n",
    "if (OddInt) ==0:\n",
    "    print(\"Odd integer does not exist\")"
   ]
  },
  {
   "cell_type": "markdown",
   "metadata": {},
   "source": [
    "Lab 5"
   ]
  },
  {
   "cell_type": "code",
   "execution_count": null,
   "metadata": {},
   "outputs": [],
   "source": [
    "#compute the probabililities of all possible total values that can be obtained from rolling a fair die three times\n",
    "#display results in dataframe\n",
    "numList=list(range(1,7))\n",
    "resultList3=list(itertools.product(numList,repeat=3)) #dice rolled 3 times\n",
    "print(f\"Total number of Outcomes = {len(resultList3)}\")\n",
    "#print(resultList3)\n",
    "resultArray=np.array(resultList3)\n",
    "sumOutcomes=np.sum(resultArray, axis=1)\n",
    "df1=pd.DataFrame({\"outcomes\":resultList3,\"sumOutcomes\":sumOutcomes})\n",
    "df1"
   ]
  },
  {
   "cell_type": "code",
   "execution_count": null,
   "metadata": {},
   "outputs": [],
   "source": [
    "#create a table that shows sums outcomes and their probabilities\n",
    "by_outcomes=df1.groupby(\"sumOutcomes\")\n",
    "outcomeDF=by_sumOutcomes.count()\n",
    "outcomes=outcomeDF.values[:,0]\n",
    "probability=outcomes/np.sum(outcomes)\n",
    "newDF=pd.DataFrame({\"sum\":list(range(3,19)), \"outcomes\":outcomes, \"probability\":probability})\n",
    "newDF"
   ]
  },
  {
   "cell_type": "markdown",
   "metadata": {},
   "source": [
    "Lab 6"
   ]
  },
  {
   "cell_type": "code",
   "execution_count": null,
   "metadata": {},
   "outputs": [],
   "source": [
    "#using mean values calculate/store STOIIP value in\"stoiip\". print the STOIIP value and unit using formatted print statement.\n",
    "Am,hm,porom,s_wim,b_oim=250,50,0.33,0.25,1.1\n",
    "stoiip=(7758*Am*hm*porom*((1-s_wim)/b_oim))\n",
    "print(f\"STOIIP = {stoiip} bbls\")"
   ]
  },
  {
   "cell_type": "code",
   "execution_count": null,
   "metadata": {},
   "outputs": [],
   "source": [
    "#create a variable nsamples make it 1000\n",
    "nSamples=10000;\n",
    "#Using the given mean and std values, generate \"nSamples\" of area, h, poro, s_wi and b_oi. \n",
    "Am,Astd=250,30\n",
    "hm,hstd=50,10\n",
    "porom,porostd=0.33,0.1\n",
    "s_wim,s_wistd=0.25,0.07\n",
    "b_oim,b_oistd=1.1,0.07\n",
    "area=Astd*np.random.randn(nSamples)+Am\n",
    "height=hstd*np.random.randn(nSamples)+hm\n",
    "poro=porostd*np.random.randn(nSamples)+porom\n",
    "s_wi=s_wistd*np.random.randn(nSamples)+s_wim\n",
    "b_oi=b_oistd*np.random.randn(nSamples)+b_oim"
   ]
  },
  {
   "cell_type": "code",
   "execution_count": null,
   "metadata": {},
   "outputs": [],
   "source": [
    "#Compute the stoiip values corresponding to the nSamples. They above are numpy arrays. So vectorize the calculations.\n",
    "stoiipv=(7758*area*height*poro*((1-s_wi)/b_oi))"
   ]
  },
  {
   "cell_type": "code",
   "execution_count": null,
   "metadata": {},
   "outputs": [],
   "source": [
    "#Store results in DataFrame with a column name \"STOIIP\". Show first five rows using the .head() function.\n",
    "dataf=pd.DataFrame({'STOIIP':stoiipv})\n",
    "dataf.head()"
   ]
  },
  {
   "cell_type": "code",
   "execution_count": null,
   "metadata": {},
   "outputs": [],
   "source": [
    "#Plot the probability density function (pdf) of these 10,000 values of STOIIP\n",
    "dataf['STOIIP'].plot(kind='hist',histtype='step',bins=100,density=True)"
   ]
  },
  {
   "cell_type": "code",
   "execution_count": null,
   "metadata": {},
   "outputs": [],
   "source": [
    "#Plot the cumulative distribution function (cdf) of these 10,000 values of STOIIP\n",
    "dataf['STOIIP'].plot(kind='hist',histtype='step',bins=100,density=True,cumulative=True)"
   ]
  },
  {
   "cell_type": "code",
   "execution_count": null,
   "metadata": {},
   "outputs": [],
   "source": [
    "#In one line display the 10th, 50th and 90th percentiles of the STOIIP values.\n",
    "dataf.quantile([0.1,0.5,0.9])"
   ]
  },
  {
   "cell_type": "markdown",
   "metadata": {},
   "source": [
    "Lab 7"
   ]
  },
  {
   "cell_type": "code",
   "execution_count": null,
   "metadata": {},
   "outputs": [],
   "source": [
    "#initial flow rate= 6,000 bopd initial decline rate= 0.001 per day. \n",
    "#The well follows the hyperbolic decline for the first 5 years and switches over to exponential decline after 5 years. \n",
    "#The well then declines exponentially for 5 more years, to make a total production time of 10 years.\n",
    "\n",
    "#Implement two functions-- one for the hyperbolic decline and another for the exponential decline\n",
    "#Use a for loop. Do not vectorize!\n",
    "#Call the hyperbolic decline function if time is less than 5 years, and the exponential decline otherwise\n",
    "#How will you get the initial rate to use during the exponential decline?"
   ]
  },
  {
   "cell_type": "code",
   "execution_count": null,
   "metadata": {},
   "outputs": [],
   "source": [
    "import numpy as np\n",
    "import matplotlib.pyplot as plt\n",
    "import math as mt\n",
    "q_i = 6000\n",
    "D_i = 0.001\n",
    "b = 0.4\n",
    "timeVec = np.arange(3650)  # sets timeVec to a vector of [0,1,2,...,20]\n",
    "rate = np.zeros(timeVec.shape)\n",
    "\n",
    "for t in timeVec[0:3650]:\n",
    "    if t <=1825:\n",
    "        rate[t]=q_i/(1+(b*D_i*t))**(1/b)\n",
    "    else:\n",
    "        rate[t]=rate[1824]*(mt.exp((-1*D_i*(t-1825))))\n",
    "plt.plot(timeVec,rate,'g-s')   #g is for green, - for solid line, and s for square markers\n",
    "plt.show()"
   ]
  },
  {
   "cell_type": "markdown",
   "metadata": {},
   "source": [
    "Lab 8"
   ]
  },
  {
   "cell_type": "code",
   "execution_count": null,
   "metadata": {},
   "outputs": [],
   "source": [
    "#find the confidence interval for the winning percentage of Ed Orgeron from \"poll-larger.csv\", \n",
    "#show that he is the likely winner within a 95% confidence interval\n",
    "#and graph it wih lines at 2.5% 50% and 97.5%\n",
    "bigpoll=pd.read_csv('poll-larger.csv')\n",
    "bigpoll['vote'].value_counts(normalize=True)\n",
    "\n",
    "def sample(orgeronWinPercent,n=1000):\n",
    "    return pd.DataFrame({'vote':np.where(np.random.rand(n)<orgeronWinPercent,'Saban','Orgeron')})\n",
    "\n",
    "DF=pd.DataFrame([sample(0.5)['vote'].value_counts(normalize=True) for i in range(1000)])\n",
    "DF['Orgeron'].plot(kind='hist',histtype='step',bins=20)\n",
    "\n",
    "plt.axvline(DF['Orgeron'].quantile(0.025), c='C1',linestyle='--')\n",
    "plt.axvline(DF['Orgeron'].quantile(0.5), c='C1')\n",
    "plt.axvline(DF['Orgeron'].quantile(0.975), c='C1',linestyle='--')\n",
    "\n",
    "def samplingdist(orgeronWinPercent,n=1000):\n",
    "    return pd.DataFrame([sample(orgeronWinPercent,n)['vote'].value_counts(normalize=True) for i in range(1000)])\n",
    "def quantiles(orgeronWinPercent,n=1000):\n",
    "    DF=samplingdist(orgeronWinPercent,n=1000)\n",
    "    return DF['Orgeron'].quantile(0.025), DF['Orgeron'].quantile(0.975)\n",
    "\n",
    "quantiles(0.5,10000)"
   ]
  },
  {
   "cell_type": "markdown",
   "metadata": {},
   "source": [
    "Lab 9"
   ]
  },
  {
   "cell_type": "code",
   "execution_count": null,
   "metadata": {},
   "outputs": [],
   "source": [
    "#Import rate and time data stored in wellA.csv and display the dataframe.\n",
    "import numpy as np\n",
    "import scipy.stats as ss\n",
    "import pandas as pd\n",
    "import matplotlib.pyplot as plt\n",
    "%matplotlib inline\n",
    "WellA=pd.read_csv('wellA.csv')\n",
    "WellA"
   ]
  },
  {
   "cell_type": "code",
   "execution_count": null,
   "metadata": {},
   "outputs": [],
   "source": [
    "#Make a scatter plot of the rate versus time\n",
    "plt.scatter(WellA['time (days)'],WellA['rate (bopd)'])\n",
    "plt.xlabel('time (days)')\n",
    "plt.ylabel('rate (bopd)')\n",
    "plt.show()"
   ]
  },
  {
   "cell_type": "code",
   "execution_count": null,
   "metadata": {},
   "outputs": [],
   "source": [
    "#plot the natural logarithm instead of the actual value on the x or y axis makes it a straight line\n",
    "WellA['t']=(WellA['time (days)'])\n",
    "WellA['b']=np.log(WellA['rate (bopd)'])\n",
    "WellA\n",
    "plt.scatter(WellA.t,WellA.b)"
   ]
  },
  {
   "cell_type": "code",
   "execution_count": null,
   "metadata": {},
   "outputs": [],
   "source": [
    "#Perform linear regression on linear data, show the slope, intercept, coefficient of regression, P-value and standard error\n",
    "[slope, intercept, r_value, p_value, std_err]=ss.linregress(WellA.t,WellA.b)\n",
    "print(f\" slope = {slope} \\n intercept = {intercept} \\n r_value = {r_value} \\n p_value = {p_value} \\n std_err = {std_err} \")"
   ]
  },
  {
   "cell_type": "code",
   "execution_count": null,
   "metadata": {},
   "outputs": [],
   "source": [
    "#Plot both your fitted straight-line model as well as the transformed data on the same graph\n",
    "plt.scatter(WellA.t,WellA.b, color='y')\n",
    "plt.scatter(WellA['time (days)'],WellA['rate (bopd)'], color='b')"
   ]
  },
  {
   "cell_type": "markdown",
   "metadata": {},
   "source": [
    "Lab 12/13"
   ]
  },
  {
   "cell_type": "code",
   "execution_count": null,
   "metadata": {},
   "outputs": [],
   "source": [
    "#Make DCA a database\n",
    "import numpy as np\n",
    "import matplotlib.pyplot as plt\n",
    "import pandas as pd\n",
    "import sqlite3\n",
    "%matplotlib inline\n",
    "\n",
    "titleFontSize=18\n",
    "axisLabelFontSize=15\n",
    "axisNumFontSize=13\n",
    "\n",
    "conn=sqlite3.connect('DCA.db')\n",
    "cur=conn.cursor()"
   ]
  },
  {
   "cell_type": "code",
   "execution_count": null,
   "metadata": {},
   "outputs": [],
   "source": [
    "#plot of both historical rate and cumulative production for each of the wells in the DCA_Solved folder.\n",
    "for wellID in range(1,18):\n",
    "    prodDF=pd.read_sql_query(f\"SELECT time,rate, Cum,Cum_model FROM Rates WHERE wellID={wellID};\",conn)\n",
    "    dcaDF=(f\"SELECT *FROM DCAparams;\",conn)\n",
    "    fig,ax1=plt.subplots()\n",
    "    ax2=ax1.twinx()\n",
    "    ax1.plot(prodDF['time'],prodDF['rate'],color=\"red\", ls='None',marker= 'o',markersize=5,)\n",
    "    ax2.plot(prodDF['time'],prodDF['Cum']/1000,'g-')\n",
    "    ax1.set_xlabel('Time, Months')\n",
    "    ax1.set_ylabel('Production Rate, bopm', color='r')\n",
    "    ax2.set_ylabel('Cumulative Oil Production, Mbbls', color='g')\n",
    "    plt.show()"
   ]
  },
  {
   "cell_type": "code",
   "execution_count": null,
   "metadata": {},
   "outputs": [],
   "source": [
    "#query the database and create a stacked plot of historical field gas production rate.\n",
    "for wellID in range(1,18):\n",
    "    prodDF=pd.read_sql_query(f\"SELECT time FROM Rates WHERE wellID={wellID};\",conn)\n",
    "    dcaDF=pd.read_sql_query(f\"SELECT wellID FROM DCAparams WHERE fluid='gas';\",conn)\n",
    "a=1\n",
    "for n in dcaDF['wellID']:\n",
    "    prodDF['Well'+str(n)]=pd.read_sql_query(f\"SELECT rate FROM Rates WHERE wellID={n};\",conn)    \n",
    "production=prodDF.iloc[:,1:].to_numpy()\n",
    "time=prodDF['time'].to_numpy()\n",
    "labels=prodDF.columns\n",
    "labels=list(labels[1:])\n",
    "fig,ax=plt.subplots()\n",
    "ax.stackplot(time,np.transpose(production), labels=labels)\n",
    "ax.legend(loc='upper left')\n",
    "plt.show()"
   ]
  },
  {
   "cell_type": "code",
   "execution_count": null,
   "metadata": {},
   "outputs": [],
   "source": [
    "#query the database and create a stacked plot of historical field oil production rate \n",
    "for wellID in range(1,18):\n",
    "    prodDF=pd.read_sql_query(f\"SELECT time FROM Rates WHERE wellID={wellID};\", conn)\n",
    "    dcaDF=pd.read_sql_query(f\"SELECT wellID FROM DCAparams WHERE fluid='oil';\", conn)\n",
    "a=1\n",
    "for n in dcaDF['wellID']:\n",
    "    prodDF['Well'+str(n)]=pd.read_sql_query(f\"SELECT rate FROM Rates WHERE wellID={n};\", conn )    \n",
    "production=prodDF.iloc[:,1:].to_numpy()\n",
    "time=prodDF['time'].to_numpy()\n",
    "labels=prodDF.columns\n",
    "labels=list(labels[1:])\n",
    "fig,ax=plt.subplots()\n",
    "ax.stackplot(prodDF['time'],np.transpose(production), labels=labels)\n",
    "ax.legend(loc='upper left')\n",
    "plt.show()"
   ]
  },
  {
   "cell_type": "code",
   "execution_count": null,
   "metadata": {},
   "outputs": [],
   "source": [
    "#query the database and create a stacked bar plot of historical field cumulative gas production for the first 6 months\n",
    "N=6\n",
    "ind=np.arange(1,N+1)    \n",
    "months=['Jan','Feb','Mar','Apr','May','Jun']\n",
    "result=np.zeros(len(months))\n",
    "labels=[]\n",
    "loc_plots=[]\n",
    "width=.75\n",
    "cumDF=pd.DataFrame(prodDF['time'])\n",
    "dcaDF=pd.read_sql_query(f\"SELECT wellID FROM DCAparams WHERE fluid = 'gas';\", conn)\n",
    "for b in dcaDF['wellID']:\n",
    "    cumDF['Well'+ str(b)]=pd.read_sql_query(f\"SELECT Cum FROM Rates WHERE wellID = {b};\", conn)\n",
    "a=1\n",
    "for n in dcaDF['wellID']:\n",
    "    p1=plt.bar(cumDF['time'][0:N],cumDF['Well'+ str(n)][0:N]/1000,width,bottom=result)\n",
    "    labels.append('Well'+str(N))\n",
    "    loc_plots.append(p1)\n",
    "    plt.ylabel('Gas Production, Mbbls')\n",
    "    plt.title('Cumulative Production Forecast')\n",
    "    plt.xticks(ind, months, fontweight='bold') \n",
    "    a+=1\n",
    "    split=cumDF.iloc[0:6, 1:a].values\n",
    "    result=np.sum(a=split,axis=1)/1000\n",
    "plt.legend(loc_plots, labels)\n",
    "plt.show(loc_plots)"
   ]
  },
  {
   "cell_type": "code",
   "execution_count": null,
   "metadata": {},
   "outputs": [],
   "source": [
    "#query the database and create a stacked bar plot of historical field cumulative oil production for the first 6 months\n",
    "ind=np.arange(1,N+1)    \n",
    "months=['Jan','Feb','Mar','Apr','May','Jun']\n",
    "result=np.zeros(len(months))\n",
    "labels=[]\n",
    "loc_plots=[]\n",
    "width=.75\n",
    "cumDF=pd.DataFrame(prodDF['time'])\n",
    "dcaDF=pd.read_sql_query(f\"SELECT wellID FROM DCAparams WHERE fluid = 'oil';\", conn)\n",
    "for a in dcaDF['wellID']:\n",
    "    cumDF['Well'+str(a)]=pd.read_sql_query(f\"SELECT Cum FROM Rates WHERE wellID = {a};\", conn)\n",
    "    #cumDF = pd.read_sql_query(f\"SELECT time FROM Rates WHERE wellID ={wellID};\", conn)\n",
    "    #dcaDF = pd.read_sql_query(f\"SELECT wellID FROM DCAparams WHERE fluid ='gas';\", conn)\n",
    "a=1\n",
    "for n in dcaDF['wellID']:\n",
    "    p1 = plt.bar(cumDF['time'][0:N], cumDF['Well'+ str(n)][0:N]/1000, width, bottom = result)\n",
    "    labels.append('Well'+ str(N))\n",
    "    loc_plots.append(p1)\n",
    "    plt.ylabel('Oil Production, Mbbls')\n",
    "    plt.title('Cumulative Production Forecast')\n",
    "    plt.xticks(ind, months, fontweight='bold')  \n",
    "    a+=1\n",
    "    split=cumDF.iloc[0:6, 1:a].values\n",
    "    result=np.sum(a=split,axis=1)/1000\n",
    "plt.legend(loc_plots, labels)\n",
    "plt.show(loc_plots)"
   ]
  },
  {
   "cell_type": "code",
   "execution_count": null,
   "metadata": {},
   "outputs": [],
   "source": [
    "#Load the well log data for wells 15_9-F-4, 15_9-F-1B and 15_9-F-14. \n",
    "#Plot the following well logs against depth for each of the three wells\n",
    "#bulk density (rhob) log\n",
    "#DT (interval transit time for P-wave or inverse of primary wave velocity) log\n",
    "#DTS (interval transit time for S-wave or inverse of shear wave velocity) log\n",
    "#GR (Gamma Ray) log\n",
    "#NPHI (neutron porosity) log\n",
    "#Caliper (CALI) log\n",
    "dataA = np.loadtxt(\"volve_logs/volve_logs/15_9-F-1B_INPUT.LAS\", skiprows = 69)\n",
    "DZA, rhoA = dataA[:,0], dataA[:,16]\n",
    "DZA = DZA[np.where(rhoA>0)]\n",
    "rhoA = rhoA[np.where(rhoA>0)]\n",
    "titleFontSize=22\n",
    "fontSize=20\n",
    "fig=plt.figure(figsize=(36,20),dpi=100)\n",
    "fig.tight_layout(pad=1, w_pad=4, h_pad=2)\n",
    "plt.subplot(1,6,1)\n",
    "plt.grid(axis='both')\n",
    "plt.plot(rhoA,DZA, color='green')\n",
    "plt.title('Density v Depth', fontsize=titleFontSize, fontweight='bold')\n",
    "plt.xlabel('Density, g/cc', fontsize = fontSize, fontweight='bold')\n",
    "plt.ylabel('Depth, m ', fontsize = fontSize, fontweight='bold')\n",
    "plt.gca().invert_yaxis()\n",
    "DZA, DT1 =dataA[:, 0], dataA[:,8]\n",
    "DZA=DZA[np.where(DT1>0)]\n",
    "DT1=DT1[np.where(DT1>0)]\n",
    "plt.subplot(1,6,2)\n",
    "plt.grid(axis='both')\n",
    "plt.plot(DT1,DZA, color='blue')\n",
    "plt.title('DT v Depth', fontsize=titleFontSize, fontweight='bold')\n",
    "plt.xlabel('DT, us/ft', fontsize = fontSize, fontweight='bold')\n",
    "plt.ylabel('Depth, m ', fontsize = fontSize, fontweight='bold')\n",
    "plt.gca().invert_yaxis()\n",
    "\n",
    "DZA, DTS1 =dataA[:, 0], dataA[:,9]\n",
    "DZA=DZA[np.where(DTS1>0)]\n",
    "DTS1=DTS1[np.where(DTS1>0)]\n",
    "\n",
    "plt.subplot(1,6,3)\n",
    "plt.grid(axis='both')\n",
    "plt.plot(DTS1,DZA, color='red')\n",
    "plt.title('DTS v Depth', fontsize=titleFontSize, fontweight='bold')\n",
    "plt.xlabel('DTS, us/ft', fontsize = fontSize, fontweight='bold')\n",
    "plt.ylabel('Depth, m ', fontsize = fontSize, fontweight='bold')\n",
    "plt.gca().invert_yaxis()\n",
    "\n",
    "DZA, GR1 =dataA[:, 0], dataA[:,10]\n",
    "DZA=DZA[np.where(GR1>0)]\n",
    "GR1=GR1[np.where(GR1>0)]\n",
    "\n",
    "plt.subplot(1,6,4)\n",
    "plt.grid(axis='both')\n",
    "plt.plot(GR1,DZA, color='blue')\n",
    "plt.title('GR v Depth', fontsize=titleFontSize, fontweight='bold')\n",
    "plt.xlabel('GR, API', fontsize = fontSize, fontweight='bold')\n",
    "plt.ylabel('Depth, m ', fontsize = fontSize, fontweight='bold')\n",
    "plt.gca().invert_yaxis()\n",
    "\n",
    "DZA, NPHI1 =dataA[:, 0], dataA[:,12]\n",
    "DZA=DZA[np.where(NPHI1>0)]\n",
    "NPHI1=NPHI1[np.where(NPHI1>0)]\n",
    "\n",
    "plt.subplot(1,6,5)\n",
    "plt.grid(axis='both')\n",
    "plt.plot(NPHI1,DZA, color='green')\n",
    "plt.title('NPHI v Depth', fontsize=titleFontSize, fontweight='bold')\n",
    "plt.xlabel('NPHI, v/v', fontsize = fontSize, fontweight='bold')\n",
    "plt.ylabel('Depth, m ', fontsize = fontSize, fontweight='bold')\n",
    "plt.gca().invert_yaxis()\n",
    "\n",
    "DZA, CALI1 =dataA[:, 0], dataA[:,6]\n",
    "DZA=DZA[np.where(CALI1>0)]\n",
    "CALI1=CALI1[np.where(CALI1>0)]\n",
    "\n",
    "plt.subplot(1,6,6)\n",
    "plt.grid(axis='both')\n",
    "plt.plot(CALI1,DZA, color='cyan')\n",
    "plt.title('Caliper v Depth', fontsize=titleFontSize, fontweight='bold')\n",
    "plt.xlabel('Caliper, inch', fontsize = fontSize, fontweight='bold')\n",
    "plt.ylabel('Depth, m ', fontsize = fontSize, fontweight='bold')\n",
    "plt.gca().invert_yaxis()\n",
    "\n",
    "\n",
    "\n",
    "data2=np.loadtxt(\"volve_logs/volve_logs/15_9-F-4_INPUT.LAS\", skiprows=65)\n",
    "DZA, rhoA= data2[:,0], data2[:,7]\n",
    "DZA= DZA[np.where(rhoA>0)]\n",
    "rhoA= rhoA[np.where(rhoA>0)]\n",
    "\n",
    "titleFontSize=22\n",
    "fontSize=20\n",
    "\n",
    "fig=plt.figure(figsize=(36,20),dpi=100)\n",
    "fig.tight_layout(pad=1, w_pad=4, h_pad=2)\n",
    "\n",
    "plt.subplot(1,6,1)\n",
    "plt.grid(axis='both')\n",
    "plt.plot(rhoA,DZA, color='yellow')\n",
    "plt.title('Density v Depth', fontsize=titleFontSize, fontweight='bold')\n",
    "plt.xlabel('Density, g/cc', fontsize = fontSize, fontweight='bold')\n",
    "plt.ylabel('Depth, ft ', fontsize = fontSize, fontweight='bold')\n",
    "plt.gca().invert_yaxis()\n",
    "\n",
    "DZA, DT1 =data2[:,0], data2[:,2]\n",
    "DZA=DZA[np.where(DT1>0)]\n",
    "DT1=DT1[np.where(DT1>0)]\n",
    "\n",
    "plt.subplot(1,6,2)\n",
    "plt.grid(axis='both')\n",
    "plt.plot(DT1,DZA, color='purple')\n",
    "plt.title('DT v Depth', fontsize=titleFontSize, fontweight='bold')\n",
    "plt.xlabel('DT, us/ft', fontsize = fontSize, fontweight='bold')\n",
    "plt.ylabel('Depth, ft', fontsize = fontSize, fontweight='bold')\n",
    "plt.gca().invert_yaxis()\n",
    "\n",
    "DZA, DTS1 =data2[:, 0], data2[:,3]\n",
    "DZA=DZA[np.where(DTS1>0)]\n",
    "DTS1=DTS1[np.where(DTS1>0)]\n",
    "\n",
    "plt.subplot(1,6,3)\n",
    "plt.grid(axis='both')\n",
    "plt.plot(DTS1,DZA, color='black')\n",
    "plt.title('DTS v Depth', fontsize=titleFontSize, fontweight='bold')\n",
    "plt.xlabel('DTS, us/ft', fontsize = fontSize, fontweight='bold')\n",
    "plt.ylabel('Depth, m ', fontsize = fontSize, fontweight='bold')\n",
    "plt.gca().invert_yaxis()\n",
    "\n",
    "DZA, GR1 =data2[:, 0], data2[:,4]\n",
    "DZA=DZA[np.where(GR1>0)]\n",
    "GR1=GR1[np.where(GR1>0)]\n",
    "\n",
    "plt.subplot(1,6,4)\n",
    "plt.grid(axis='both')\n",
    "plt.plot(GR1,DZA, color='green')\n",
    "plt.title('GR v Depth', fontsize=titleFontSize, fontweight='bold')\n",
    "plt.xlabel('GR, API', fontsize = fontSize, fontweight='bold')\n",
    "plt.ylabel('Depth, m ', fontsize = fontSize, fontweight='bold')\n",
    "plt.gca().invert_yaxis()\n",
    "\n",
    "DZA, NPHI1 =data2[:, 0], data2[:,5]\n",
    "DZA=DZA[np.where(NPHI1>0)]\n",
    "NPHI1=NPHI1[np.where(NPHI1>0)]\n",
    "\n",
    "plt.subplot(1,6,5)\n",
    "plt.grid(axis='both')\n",
    "plt.plot(NPHI1,DZA, color='red')\n",
    "plt.title('NPHI v Depth', fontsize=titleFontSize, fontweight='bold')\n",
    "plt.xlabel('NPHI, v/v', fontsize = fontSize, fontweight='bold')\n",
    "plt.ylabel('Depth, m ', fontsize = fontSize, fontweight='bold')\n",
    "plt.gca().invert_yaxis()\n",
    "\n",
    "\n",
    "data3 = np.loadtxt(\"volve_logs/volve_logs/15_9-F-14_INPUT.LAS\", skiprows = 69)\n",
    "DZA, rhoA = data3[:,0], data3[:,9]\n",
    "DZA = DZA[np.where(rhoA>0)]\n",
    "rhoA = rhoA[np.where(rhoA>0)]\n",
    "\n",
    "titleFontSize=22\n",
    "fontSize=20\n",
    "\n",
    "fig=plt.figure(figsize=(36,20),dpi=100)\n",
    "fig.tight_layout(pad=1, w_pad=4, h_pad=2)\n",
    "\n",
    "plt.subplot(1,6,1)\n",
    "plt.grid(axis='both')\n",
    "plt.plot(rhoA,DZA, color='green')\n",
    "plt.title('Density v Depth', fontsize=titleFontSize, fontweight='bold')\n",
    "plt.xlabel('Density, g/cc', fontsize = fontSize, fontweight='bold')\n",
    "plt.ylabel('Depth, m ', fontsize = fontSize, fontweight='bold')\n",
    "plt.gca().invert_yaxis()\n",
    "\n",
    "DZA, DT1 =data3[:, 0], data3[:,3]\n",
    "DZA=DZA[np.where(DT1>0)]\n",
    "DT1=DT1[np.where(DT1>0)]\n",
    "\n",
    "plt.subplot(1,6,2)\n",
    "plt.grid(axis='both')\n",
    "plt.plot(DT1,DZA, color='yellow')\n",
    "plt.title('DT v Depth', fontsize=titleFontSize, fontweight='bold')\n",
    "plt.xlabel('DT, us/ft', fontsize = fontSize, fontweight='bold')\n",
    "plt.ylabel('Depth, m ', fontsize = fontSize, fontweight='bold')\n",
    "plt.gca().invert_yaxis()\n",
    "\n",
    "DZA, DTS1 =data3[:, 0], data3[:,4]\n",
    "DZA=DZA[np.where(DTS1>0)]\n",
    "DTS1=DTS1[np.where(DTS1>0)]\n",
    "\n",
    "plt.subplot(1,6,3)\n",
    "plt.grid(axis='both')\n",
    "plt.plot(DTS1,DZA, color='purple')\n",
    "plt.title('DTS v Depth', fontsize=titleFontSize, fontweight='bold')\n",
    "plt.xlabel('DTS, us/ft', fontsize = fontSize, fontweight='bold')\n",
    "plt.ylabel('Depth, m ', fontsize = fontSize, fontweight='bold')\n",
    "plt.gca().invert_yaxis()\n",
    "\n",
    "DZA, GR1 =data3[:, 0], data3[:,5]\n",
    "DZA=DZA[np.where(GR1>0)]\n",
    "GR1=GR1[np.where(GR1>0)]\n",
    "\n",
    "plt.subplot(1,6,4)\n",
    "plt.grid(axis='both')\n",
    "plt.plot(GR1,DZA, color='blue')\n",
    "plt.title('GR v Depth', fontsize=titleFontSize, fontweight='bold')\n",
    "plt.xlabel('GR, API', fontsize = fontSize, fontweight='bold')\n",
    "plt.ylabel('Depth, m ', fontsize = fontSize, fontweight='bold')\n",
    "plt.gca().invert_yaxis()\n",
    "\n",
    "DZA,NPHI1=data3[:, 0], data3[:,6]\n",
    "DZA=DZA[np.where(NPHI1>0)]\n",
    "NPHI1=NPHI1[np.where(NPHI1>0)]\n",
    "\n",
    "plt.subplot(1,6,5)\n",
    "plt.grid(axis='both')\n",
    "plt.plot(NPHI1,DZA, color='grey')\n",
    "plt.title('NPHI v Depth',fontsize=titleFontSize, fontweight='bold')\n",
    "plt.xlabel('NPHI, v/v',fontsize = fontSize, fontweight='bold')\n",
    "plt.ylabel('Depth, m ',fontsize = fontSize, fontweight='bold')\n",
    "plt.gca().invert_yaxis()"
   ]
  },
  {
   "cell_type": "markdown",
   "metadata": {},
   "source": [
    "Lab 14"
   ]
  },
  {
   "cell_type": "code",
   "execution_count": null,
   "metadata": {},
   "outputs": [],
   "source": [
    "#Modify all the constructors in the Lab_13_OOP.ipynb code to take in any arbitrary number of arguments. The objects instantiated from all of these classes should be modified accordingly.\n",
    "import numpy as np\n",
    "import matplotlib.pyplot as plt\n",
    "import pandas as pd\n",
    "import sqlite3\n",
    "%matplotlib inline\n",
    "\n",
    "class Well:\n",
    "    def __init__(self,**kwargs):\n",
    "        if 'startDate' in kwargs:self._startDate=kwargs['startDate']\n",
    "        self._q_i=0        \n",
    "    def computeRate(self):\n",
    "        self._rate=0\n",
    "        return self._rate\n",
    "    def computeCumProd(self):\n",
    "        self._CumProd=0\n",
    "        return self._CumProd\n",
    "    def getStartDate(self):\n",
    "        pass\n",
    "    def setStartDate(self):\n",
    "        pass\n",
    "    \n",
    "class ProductionWell(Well):\n",
    "    sign=-1 \n",
    "    def __init__(self,**kwargs):\n",
    "        if 'prodStartDate' in kwargs:self._startDate=kwargs['prodStartDate']   \n",
    "        if 'startDate' in kwargs: del kwargs['startDate']\n",
    "        if 'q_i' in kwargs: self._q_i=kwargs['q_i']\n",
    "        if 'D_i' in kwargs: self._D_i=kwargs['D_i']  \n",
    "    def computeRate(self,t=None):    \n",
    "        if t: self._rate=self._q_i*np.exp(-self._D_i*t)\n",
    "        return self._rate  \n",
    "    def computeCumProd(self, **kwargs):  \n",
    "        self._CumProd=(self._q_i - self._rate)/self._D_i\n",
    "        return self._CumProd\n",
    "    def getStartDate(self):\n",
    "        pass\n",
    "    def setStartDate(self):\n",
    "        pass\n",
    "    \n",
    "class InjectionWell(Well):\n",
    "    sign=1\n",
    "    def __init__(self,**kwargs):\n",
    "        if 'injStartDate' in kwargs: self._startDate=kwargs['injStartDate']\n",
    "        if 'startDate' in kwargs: del kwargs['startDate']\n",
    "        if 'q_i' in kwargs: self._q_i = kwargs['q_i']  \n",
    "    def computeRate(self,**kwargs):\n",
    "        if 'q_i' in kwargs: self._rate=kwargs['q_i']\n",
    "        return self._rate  \n",
    "    def computeCumProd(self,t=None):\n",
    "        if t: self._CumProd=self._q_i*t\n",
    "        return self._CumProd\n",
    "    def getStartDate(self):\n",
    "        pass\n",
    "    def setStartDate(self):\n",
    "        pass\n",
    "\n",
    "class AppraisalWell(Well):\n",
    "    sign=0\n",
    "    \n",
    "well_1=Well(startDate=2000)\n",
    "well_1.computeCumProd()\n",
    "well_2=Well(startDate=2000)\n",
    "well_2.computeCumProd()\n",
    "producer_A=ProductionWell(prodStartDate=2000,q_i=3000,D_i=0.01)\n",
    "producer_B=ProductionWell(prodStartDate=2001,q_i=4000,D_i=0.02)\n",
    "injector_A=InjectionWell(injStartDate=2005,q_i=2500)\n",
    "injector_B=InjectionWell(injStartDate=2005,q_i=2500)\n",
    "producer_A.computeRate(t=10)\n",
    "producer_A.computeCumProd()  \n",
    "producer_B.computeRate(11)\n",
    "producer_B.computeCumProd(t=11)\n",
    "injector_B.computeRate(q_i=1000)\n",
    "injector_B.computeCumProd(t=11) \n",
    "injector_A.computeRate(q_i=1000)\n",
    "injector_A.computeCumProd(t=11)\n",
    "\n",
    "producer_A._CumProd=30000  \n",
    "\n",
    "for well in [producer_A, producer_B, injector_A, injector_B, well_1]:\n",
    "    print(well._CumProd)"
   ]
  },
  {
   "cell_type": "markdown",
   "metadata": {},
   "source": [
    "Final Review "
   ]
  },
  {
   "cell_type": "code",
   "execution_count": null,
   "metadata": {},
   "outputs": [],
   "source": [
    "#make a Dataframe/table to convert Fareinheit to Celsius. Show all temperatures in rows from 0-100 multiples of 10\n",
    "mport numpy as np\n",
    "import pandas as pd\n",
    "temperature = pd.DataFrame({'Celsius':np.arange(0,110,10)}) #creates temperature dataframe with one Celsius column\n",
    "temperature['Fahrenheit']=temperature['Celsius'] * 1.8 + 32 #creates a Fahrenheit column using the given equation\n",
    "print(temperature)"
   ]
  },
  {
   "cell_type": "code",
   "execution_count": null,
   "metadata": {},
   "outputs": [],
   "source": []
  },
  {
   "cell_type": "code",
   "execution_count": null,
   "metadata": {},
   "outputs": [],
   "source": [
    "#import data into from excel\n",
    "fileName = 'Volve production data.xlsx'\n",
    "xl = pd.ExcelFile(fileName)\n",
    "dailyDF = xl.parse('Daily Production Data')"
   ]
  },
  {
   "cell_type": "code",
   "execution_count": null,
   "metadata": {},
   "outputs": [],
   "source": [
    "#code that will create a database called \"VolveProduction.db\".\n",
    "conn = sqlite3.connect(\"VolveProduction.db\") \n",
    "cur = conn.cursor()"
   ]
  },
  {
   "cell_type": "code",
   "execution_count": null,
   "metadata": {},
   "outputs": [],
   "source": [
    "#make imported data from database table into daily rates\n",
    "dailyDF.to_sql(\"DailyRates\", conn, if_exists=\"append\", index = False)"
   ]
  },
  {
   "cell_type": "code",
   "execution_count": null,
   "metadata": {},
   "outputs": [],
   "source": [
    "#Query the DailyRates table and store the choke sizes and oil rates for Volve production wells then graph\n",
    "\n",
    "wellbore = [5351,5599,5693,5769,7078,7289,7405] #use excel filter to get wellbore IDs\n",
    "\n",
    "for i in wellbore:\n",
    "    \n",
    "    testWellDF = pd.read_sql_query(f\"SELECT DP_CHOKE_SIZE,BORE_OIL_VOL FROM DailyRates WHERE NPD_WELL_BORE_CODE={i};\", conn) \n",
    "    fig, ax1 = plt.subplots()\n",
    "\n",
    "    ax2 = ax1.twinx()\n",
    "    ax1.plot( testWellDF['BORE_OIL_VOL'], color=\"green\", ls='None', marker='o', markersize=5,)\n",
    "    ax2.plot( testWellDF['DP_CHOKE_SIZE'], color=\"blue\", ls='solid', marker='o', markersize=5,label='Wellbore '+str(i))\n",
    "    ax1.set_xlabel('Time, Days')\n",
    "    ax1.set_ylabel('Production Rate, bopd', color='g')\n",
    "    ax2.set_ylabel('Choke Size, Inches', color='b')\n",
    "    plt.legend()\n",
    "    \n",
    "    plt.show()"
   ]
  }
 ],
 "metadata": {
  "kernelspec": {
   "display_name": "Python 3",
   "language": "python",
   "name": "python3"
  },
  "language_info": {
   "codemirror_mode": {
    "name": "ipython",
    "version": 3
   },
   "file_extension": ".py",
   "mimetype": "text/x-python",
   "name": "python",
   "nbconvert_exporter": "python",
   "pygments_lexer": "ipython3",
   "version": "3.7.3"
  }
 },
 "nbformat": 4,
 "nbformat_minor": 2
}
